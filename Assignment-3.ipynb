{
 "cells": [
  {
   "cell_type": "markdown",
   "metadata": {},
   "source": [
    "<h3>Q no 1:  Write a python program to find number of occurrences of given number in a list with out using built-in methods</h3>\n",
    "<h4>**1 generate a list of some random num which is repeated again and again</h4>\n",
    "<h4>**2 take user input any number</h4>\n",
    "<h4>**3 find the number of occurrences of that num in your list</h4>\n",
    "<h4>**4 print some message to user with that result</h4>"
   ]
  },
  {
   "cell_type": "code",
   "execution_count": 3,
   "metadata": {},
   "outputs": [
    {
     "name": "stdout",
     "output_type": "stream",
     "text": [
      "enter number.\n",
      "5\n"
     ]
    }
   ],
   "source": [
    "random_num=[1,2,2,2,3,4,6,3,7,5,8\n",
    "enter=float(input(\"enter number.\\n\"))"
   ]
  },
  {
   "cell_type": "code",
   "execution_count": 14,
   "metadata": {},
   "outputs": [
    {
     "name": "stdout",
     "output_type": "stream",
     "text": [
      "enter number.\n",
      "2\n",
      "3 occurrence\n"
     ]
    }
   ],
   "source": [
    "random_num=[1,2,2,2,3,4,6,3,7,5,8]\n",
    "enter=float(input(\"enter number.\\n\"))\n",
    "occurrence=0\n",
    "for x in random_num:\n",
    "    if enter==x:\n",
    "        occurrence+=1\n",
    "print(occurrence,\"occurrence\")"
   ]
  },
  {
   "cell_type": "markdown",
   "metadata": {},
   "source": [
    "<h3>Q no 2:   [\"www.zframez.com\", \"www.wikipedia.org\", \"www.asp.net\", \"www.abcd.in\"]\n",
    "<br/><br/><br/><br/><br/>\n",
    "Write a python program to print website suffixes (com , org , net ,in) from this list\n",
    "\n",
    "Hint : Use split() method to perform this task\n",
    "</h3>\n"
   ]
  },
  {
   "cell_type": "code",
   "execution_count": 2,
   "metadata": {},
   "outputs": [
    {
     "name": "stdout",
     "output_type": "stream",
     "text": [
      "com\n",
      "org\n",
      "net\n",
      "in\n"
     ]
    }
   ],
   "source": [
    "given_list=[\"www.zframez.com\", \"www.wikipedia.org\", \"www.asp.net\", \"www.abcd.in\"]\n",
    "for y in given_list:\n",
    "    z=y.split(\".\")[2]\n",
    "    print(z)"
   ]
  },
  {
   "cell_type": "markdown",
   "metadata": {},
   "source": []
  },
  {
   "cell_type": "markdown",
   "metadata": {},
   "source": [
    "<h3> Q no 3 : Write a program which can compute the factorial of a given numbers.</h3>\n",
    "<br/>\n",
    "<br/>\n",
    "<h4>**1 first take user input any number</h4>\n",
    "<h4>**2 calculate factorial of that input and then print the result to user</h4>"
   ]
  },
  {
   "cell_type": "code",
   "execution_count": 11,
   "metadata": {},
   "outputs": [
    {
     "name": "stdout",
     "output_type": "stream",
     "text": [
      "enter any number...\n",
      "5\n",
      "factorial of enter5=120\n"
     ]
    }
   ],
   "source": [
    "number=int(input(\"enter any number...\\n\"))\n",
    "factorial=1\n",
    "if number<0:\n",
    "    print(\"no factorial for negative number.\")\n",
    "elif number==0:\n",
    "    print(\"factorial of 0 is 1\")\n",
    "else:\n",
    "    for x in range(1,number+1):\n",
    "        factorial=factorial*x\n",
    "    print(\"factorial of enter\" + str(number) + \"=\" + str(factorial))"
   ]
  },
  {
   "cell_type": "code",
   "execution_count": null,
   "metadata": {},
   "outputs": [],
   "source": []
  },
  {
   "cell_type": "code",
   "execution_count": null,
   "metadata": {},
   "outputs": [],
   "source": []
  },
  {
   "cell_type": "code",
   "execution_count": null,
   "metadata": {},
   "outputs": [],
   "source": []
  },
  {
   "cell_type": "markdown",
   "metadata": {},
   "source": [
    "<h3>Q 4 (a) :  If you could invite anyone, living or deceased, to dinner, who\n",
    "would you invite? Make a list that includes at least three people you’d like to\n",
    "invite to dinner. Then use your list to print a message to each person, inviting\n",
    "them to dinner.</h3>"
   ]
  },
  {
   "cell_type": "code",
   "execution_count": 23,
   "metadata": {},
   "outputs": [
    {
     "name": "stdout",
     "output_type": "stream",
     "text": [
      "hameed:\twarm welcome in dinner party\n",
      "fazal:\twarm welcome in dinner party\n",
      "saif:\twarm welcome in dinner party\n"
     ]
    }
   ],
   "source": [
    "list=[\"hameed\",\"fazal\",\"saif\"]\n",
    "for x in list:\n",
    "    print(x +  \":\\twarm welcome in dinner party\")"
   ]
  },
  {
   "cell_type": "code",
   "execution_count": null,
   "metadata": {},
   "outputs": [],
   "source": []
  },
  {
   "cell_type": "code",
   "execution_count": null,
   "metadata": {},
   "outputs": [],
   "source": []
  },
  {
   "cell_type": "markdown",
   "metadata": {},
   "source": [
    "<h3>Q 4 (b) : You just heard that one of your guests can’t make the\n",
    "dinner, so you need to send out a new set of invitations. You’ll have to think of\n",
    "someone else to invite.<br/></br><br/>\n",
    "•\t Start with your program from Q 4 (a). Add a print statement at the\n",
    "end of your program stating the name of the guest who can’t make it.<br/></br><br/>\n",
    "•\t Modify your list, replacing the name of the guest who can’t make it with\n",
    "the name of the new person you are inviting.<br/></br><br/>\n",
    "•\t Print a second set of invitation messages, one for each person who is still\n",
    "in your list.<br/></br><br/></h3>"
   ]
  },
  {
   "cell_type": "code",
   "execution_count": 30,
   "metadata": {},
   "outputs": [
    {
     "name": "stdout",
     "output_type": "stream",
     "text": [
      "hameed:\twarm welcome in dinner party\n",
      "fazal:\twarm welcome in dinner party\n",
      "saif:\twarm welcome in dinner party\n",
      "fazal:\tnot comming in dinner party\n",
      "saif:\tnot comming in dinner party\n"
     ]
    }
   ],
   "source": [
    "list=[\"hameed\",\"fazal\",\"saif\"]\n",
    "for x in list:\n",
    "    print(x +  \":\\twarm welcome in dinner party\")\n",
    "for y in list[1:3]:\n",
    "    print(y +  \":\\tnot comming in dinner party\")\n",
    "    "
   ]
  },
  {
   "cell_type": "code",
   "execution_count": 60,
   "metadata": {},
   "outputs": [
    {
     "name": "stdout",
     "output_type": "stream",
     "text": [
      "hameed:\twarm welcome in dinner party\n",
      "fazal:\twarm welcome in dinner party\n",
      "saif:\twarm welcome in dinner party\n",
      "fazal:\tnot comming in dinner party\n",
      "saif:\tnot comming in dinner party\n",
      "hameed:\twarm welcome in dinner party\n",
      "hassan:\twarm welcome in dinner party\n",
      "zain:\twarm welcome in dinner party\n"
     ]
    }
   ],
   "source": [
    "list=[\"hameed\",\"fazal\",\"saif\"]\n",
    "for x in list:\n",
    "    print(x +  \":\\twarm welcome in dinner party\")\n",
    "for y in list[1:3]:\n",
    "    print(y +  \":\\tnot comming in dinner party\")\n",
    "list.pop(1)\n",
    "list.insert(1,\"hassan\")\n",
    "list\n",
    "list.pop(2)\n",
    "list.insert(2,\"zain\")\n",
    "list\n",
    "for z in list:\n",
    "    print(z +  \":\\twarm welcome in dinner party\")"
   ]
  },
  {
   "cell_type": "code",
   "execution_count": null,
   "metadata": {},
   "outputs": [],
   "source": []
  },
  {
   "cell_type": "markdown",
   "metadata": {},
   "source": [
    "<h3>Q 4 (c) : You just found a bigger dinner table, so now more space is\n",
    "available. Think of three more guests to invite to dinner.<br/></br><br/>\n",
    "•\t Start with your program from Q 4 (a) and (b) Add a print\n",
    "statement to the end of your program informing people that you found a\n",
    "bigger dinner table.<br/></br><br/>\n",
    "•\t Use insert() to add one new guest to the beginning of your list.<br/></br><br/>\n",
    "•\t Use insert() to add one new guest to the middle of your list.<br/></br><br/>\n",
    "•\t Use append() to add one new guest to the end of your list.<br/></br><br/>\n",
    "•\t Print a new set of invitation messages, one for each person in your list.<br/></br><br/></h3>"
   ]
  },
  {
   "cell_type": "code",
   "execution_count": 2,
   "metadata": {},
   "outputs": [
    {
     "name": "stdout",
     "output_type": "stream",
     "text": [
      "hameed:\twarm welcome in dinner party\n",
      "fazal:\twarm welcome in dinner party\n",
      "saif:\twarm welcome in dinner party\n",
      "fazal:\tnot comming in dinner party\n",
      "saif:\tnot comming in dinner party\n",
      "hameed:\twarm welcome in dinner party\n",
      "hassan:\twarm welcome in dinner party\n",
      "zain:\twarm welcome in dinner party\n",
      "i found bigger dinner table!!!\n",
      "usama:\twarm welcome in dinner party\n",
      "hameed:\twarm welcome in dinner party\n",
      "mohsin:\twarm welcome in dinner party\n",
      "hassan:\twarm welcome in dinner party\n",
      "zain:\twarm welcome in dinner party\n",
      "sadiq:\twarm welcome in dinner party\n"
     ]
    }
   ],
   "source": [
    "list=[\"hameed\",\"fazal\",\"saif\"]\n",
    "for x in list:\n",
    "    print(x +  \":\\twarm welcome in dinner party\")\n",
    "for y in list[1:3]:\n",
    "    print(y +  \":\\tnot comming in dinner party\")\n",
    "list.pop(1)\n",
    "list.insert(1,\"hassan\")\n",
    "list\n",
    "list.pop(2)\n",
    "list.insert(2,\"zain\")\n",
    "list\n",
    "for z in list:\n",
    "    print(z +  \":\\twarm welcome in dinner party\")\n",
    "print(\"i found bigger dinner table!!!\")\n",
    "list.insert(0,\"usama\")\n",
    "list.insert(2,\"mohsin\")\n",
    "list.insert(5,\"sadiq\")\n",
    "list\n",
    "for i in list:\n",
    "    print(i +  \":\\twarm welcome in dinner party\")\n",
    "    "
   ]
  },
  {
   "cell_type": "code",
   "execution_count": null,
   "metadata": {},
   "outputs": [],
   "source": []
  },
  {
   "cell_type": "code",
   "execution_count": null,
   "metadata": {},
   "outputs": [],
   "source": []
  },
  {
   "cell_type": "markdown",
   "metadata": {},
   "source": [
    "<h5> Q 5 : Here you have some data in variable below, your task is to make a list of specific word Surah then print the list and length of list</h5>\n"
   ]
  },
  {
   "cell_type": "code",
   "execution_count": 74,
   "metadata": {},
   "outputs": [],
   "source": [
    "given_data = \"Sura I Who believe in the Unseen, Sura Are steadfast in prayer, And spend Sura out of what We Have provided for them;\"\n",
    "data = given_data.split(\" \")\n",
    "listA = []\n",
    "for x in data:\n",
    "    if x == \"Sura\":\n",
    "        listA.append(x)\n",
    "       "
   ]
  },
  {
   "cell_type": "code",
   "execution_count": 75,
   "metadata": {},
   "outputs": [
    {
     "name": "stdout",
     "output_type": "stream",
     "text": [
      "['Sura', 'Sura', 'Sura']\n",
      "Number of  Sura appears in the data :  3\n"
     ]
    }
   ],
   "source": [
    " print(listA)\n",
    "print(\"Number of  Sura appears in the data : \" , len(listA))"
   ]
  },
  {
   "cell_type": "markdown",
   "metadata": {},
   "source": [
    " <h3>Q no 6 : You have some name of cities in list named cities, Your task is to check whether Karachi is present in this list or not, if present print the index where the value Karachi is present</h3>"
   ]
  },
  {
   "cell_type": "code",
   "execution_count": 86,
   "metadata": {},
   "outputs": [],
   "source": [
    "given_data = [\"multan\",\"dubai\",\"karachi\",\"sydney\"]\n",
    "index=0\n",
    "for x in range(0,len(given_data)):\n",
    "    if(given_data[x] == \"Karachi\"):\n",
    "        index = x\n",
    "        print(index)\n",
    "        \n",
    "    "
   ]
  },
  {
   "cell_type": "code",
   "execution_count": null,
   "metadata": {},
   "outputs": [],
   "source": []
  },
  {
   "cell_type": "code",
   "execution_count": 85,
   "metadata": {},
   "outputs": [],
   "source": []
  },
  {
   "cell_type": "code",
   "execution_count": null,
   "metadata": {},
   "outputs": [],
   "source": []
  }
 ],
 "metadata": {
  "kernelspec": {
   "display_name": "Python 3",
   "language": "python",
   "name": "python3"
  },
  "language_info": {
   "codemirror_mode": {
    "name": "ipython",
    "version": 3
   },
   "file_extension": ".py",
   "mimetype": "text/x-python",
   "name": "python",
   "nbconvert_exporter": "python",
   "pygments_lexer": "ipython3",
   "version": "3.7.3"
  }
 },
 "nbformat": 4,
 "nbformat_minor": 2
}
